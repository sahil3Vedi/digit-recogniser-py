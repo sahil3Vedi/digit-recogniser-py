{
  "nbformat": 4,
  "nbformat_minor": 0,
  "metadata": {
    "colab": {
      "name": "Deep Learning on MNIST without Tensorflow",
      "version": "0.3.2",
      "provenance": [],
      "collapsed_sections": [],
      "include_colab_link": true
    },
    "kernelspec": {
      "name": "python3",
      "display_name": "Python 3"
    }
  },
  "cells": [
    {
      "cell_type": "markdown",
      "metadata": {
        "id": "view-in-github",
        "colab_type": "text"
      },
      "source": [
        "<a href=\"https://colab.research.google.com/github/sahil3Vedi/digit-recogniser-py/blob/master/Deep_Learning_on_MNIST_without_Tensorflow.ipynb\" target=\"_parent\"><img src=\"https://colab.research.google.com/assets/colab-badge.svg\" alt=\"Open In Colab\"/></a>"
      ]
    },
    {
      "metadata": {
        "id": "44tpxiU1auZB",
        "colab_type": "code",
        "outputId": "32371ec5-943b-4249-b4f0-a59fdd63036a",
        "colab": {
          "base_uri": "https://localhost:8080/",
          "height": 34
        }
      },
      "cell_type": "code",
      "source": [
        "#declaring all the dependencies NO KERAS OR TENSORFLOW\n",
        "\n",
        "import numpy as np\n",
        "import csv\n",
        "import math\n",
        "from google.colab import drive\n",
        "drive.mount('/content/drive')"
      ],
      "execution_count": 0,
      "outputs": [
        {
          "output_type": "stream",
          "text": [
            "Drive already mounted at /content/drive; to attempt to forcibly remount, call drive.mount(\"/content/drive\", force_remount=True).\n"
          ],
          "name": "stdout"
        }
      ]
    },
    {
      "metadata": {
        "id": "D0dOuVLGDRpF",
        "colab_type": "text"
      },
      "cell_type": "markdown",
      "source": [
        "Neural Network is Trained in 4 Stages:\n",
        "\n",
        "1) Network recieves input from model\n",
        "FUNCTION: NN.getInput(model.inputList)\n",
        "VARIABLES INVOLVED: NN.layers[0].inputVals\n",
        "\n",
        "2) Network activates one layer after the other.\n",
        "FUNCTION: NN.activate(activationFunction)\n",
        "VARIABLES INVOLVED: NN.layers[i].inputVals, NN.layers[i].activations, NN.layers[i].activDerivates, NN.layers[i].layerWeights, NN.layers[i].bias, NN.layers[i].biasWeights\n",
        "\n",
        "3) Model calculates cost from the target value of input data and answer provided by network.\n",
        "FUNCTION: model.getCost(NN)\n",
        "VARIABLES INVOLVED: NN.layers[-1].activations, NN.layers[-1].forwardError, model.cost\n",
        "\n",
        "4) Network readjusts the weights based on the cost and error information.\n",
        "FUNCTION: NN.backpropagate()\n",
        "VARIABLES INVOLVED: NN.layers[i].forwardError, NN.layers[i].diffWeights, NN.layers[i].diffBias, NN.layers[i-1].activations, NN.layers[i-1].forwardError"
      ]
    },
    {
      "metadata": {
        "id": "A8tGUPpNa_SB",
        "colab_type": "code",
        "colab": {}
      },
      "cell_type": "code",
      "source": [
        "class neuralNetwork:\n",
        "  layers=[]\n",
        "  finalError=[]\n",
        "  \n",
        "  #When a neural network is declared \n",
        "  def __init__(self):\n",
        "    inputElem=784\n",
        "    outputElem=10\n",
        "    hiddenElem=50\n",
        "    \n",
        "    "
      ],
      "execution_count": 0,
      "outputs": []
    },
    {
      "metadata": {
        "id": "JI26jhojzoG2",
        "colab_type": "code",
        "colab": {}
      },
      "cell_type": "code",
      "source": [
        "class model:\n",
        "  cost=0\n",
        "  inputFile=[]\n",
        "  trainingEntries=0\n",
        "  \n",
        "  def getInput(self,inputFile):\n",
        "    with open(inputFile) as csvFile:\n",
        "      csvReader = csv.reader(csvFile)\n",
        "      self.inputFile = list(csvReader)\n",
        "      self.trainingEntries = len(self.inputFile)\n",
        "      print(\"Total entries excluding header: \" + str(self.trainingEntries-1) + \" rows\")#n-1 because first row is header row\n",
        "    "
      ],
      "execution_count": 0,
      "outputs": []
    },
    {
      "metadata": {
        "id": "aiSyxuUxdsDP",
        "colab_type": "code",
        "colab": {}
      },
      "cell_type": "code",
      "source": [
        "class layer:\n",
        "  numberElements=0\n",
        "  bias=0\n",
        "  activation=\"default\"\n",
        "  inputVals=[]\n",
        "  activations=[]\n",
        "  activDerivatives=[]\n",
        "  forwardError=[]\n",
        "  layerWeights=[]\n",
        "  biasWeights=[]\n",
        "  \n",
        "  #When a layer is declared\n",
        "  def initialiseLayer(self,no_of_elements,activations,previousLayer):\n",
        "    self.numberElements=no_of_elements\n",
        "    self.bias=0.5\n",
        "    #Initialising the Weight Matrix\n",
        "    temp=[]\n",
        "    for i in range(previousLayer.numberElements):\n",
        "      temptemp=[]\n",
        "      for j in range(self.numberElements):\n",
        "        temptemp.append(np.random.random_sample()-0.5)\n",
        "      temp.append(temptemp)\n",
        "    #Initialising the Bias Matrix\n",
        "    for i in range(self.numberElements):\n",
        "      biasWeights.append(np.random.random_sample()-0.5)\n",
        "    "
      ],
      "execution_count": 0,
      "outputs": []
    },
    {
      "metadata": {
        "id": "GihhafanX14r",
        "colab_type": "code",
        "outputId": "acfad466-94d0-44d1-b5ff-7b557de152ca",
        "colab": {
          "base_uri": "https://localhost:8080/",
          "height": 204
        }
      },
      "cell_type": "code",
      "source": [
        "#-----MAIN FUNCTION-----\n",
        "\n",
        "Model = model()\n",
        "inputFile='drive/My Drive/MNIST Image CSV/train.csv'\n",
        "Model.getInput(inputFile)\n",
        "print(Model.inputFile)"
      ],
      "execution_count": 0,
      "outputs": [
        {
          "output_type": "stream",
          "text": [
            "Total entries excluding header: 42000 rows\n"
          ],
          "name": "stdout"
        },
        {
          "output_type": "stream",
          "text": [
            "IOPub data rate exceeded.\n",
            "The notebook server will temporarily stop sending output\n",
            "to the client in order to avoid crashing it.\n",
            "To change this limit, set the config variable\n",
            "`--NotebookApp.iopub_data_rate_limit`.\n",
            "\n",
            "Current values:\n",
            "NotebookApp.iopub_data_rate_limit=1000000.0 (bytes/sec)\n",
            "NotebookApp.rate_limit_window=3.0 (secs)\n",
            "\n"
          ],
          "name": "stderr"
        }
      ]
    }
  ]
}